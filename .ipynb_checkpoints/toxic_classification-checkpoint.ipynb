{
 "cells": [
  {
   "cell_type": "code",
   "execution_count": 59,
   "id": "35e6b0e4",
   "metadata": {},
   "outputs": [],
   "source": [
    "import tensorflow as tf\n",
    "from tensorflow.keras.models import Sequential\n",
    "from tensorflow.keras.utils import to_categorical \n",
    "from tensorflow.keras.preprocessing.text import Tokenizer\n",
    "from tensorflow.keras.preprocessing.sequence import pad_sequences\n",
    "import pandas as pd\n",
    "import numpy as np\n",
    "import re"
   ]
  },
  {
   "cell_type": "code",
   "execution_count": 5,
   "id": "94283431",
   "metadata": {},
   "outputs": [],
   "source": [
    "filename_train = 'data/train.csv'\n",
    "filename_test = 'data/test.csv'\n",
    "\n",
    "df_train = pd.read_csv(filename_train)\n",
    "df_test = pd.read_csv(filename_test)"
   ]
  },
  {
   "cell_type": "code",
   "execution_count": 6,
   "id": "6b835527",
   "metadata": {},
   "outputs": [
    {
     "data": {
      "text/html": [
       "<div>\n",
       "<style scoped>\n",
       "    .dataframe tbody tr th:only-of-type {\n",
       "        vertical-align: middle;\n",
       "    }\n",
       "\n",
       "    .dataframe tbody tr th {\n",
       "        vertical-align: top;\n",
       "    }\n",
       "\n",
       "    .dataframe thead th {\n",
       "        text-align: right;\n",
       "    }\n",
       "</style>\n",
       "<table border=\"1\" class=\"dataframe\">\n",
       "  <thead>\n",
       "    <tr style=\"text-align: right;\">\n",
       "      <th></th>\n",
       "      <th>id</th>\n",
       "      <th>comment_text</th>\n",
       "      <th>toxic</th>\n",
       "      <th>severe_toxic</th>\n",
       "      <th>obscene</th>\n",
       "      <th>threat</th>\n",
       "      <th>insult</th>\n",
       "      <th>identity_hate</th>\n",
       "    </tr>\n",
       "  </thead>\n",
       "  <tbody>\n",
       "    <tr>\n",
       "      <th>0</th>\n",
       "      <td>0000997932d777bf</td>\n",
       "      <td>Explanation\\nWhy the edits made under my usern...</td>\n",
       "      <td>0</td>\n",
       "      <td>0</td>\n",
       "      <td>0</td>\n",
       "      <td>0</td>\n",
       "      <td>0</td>\n",
       "      <td>0</td>\n",
       "    </tr>\n",
       "    <tr>\n",
       "      <th>1</th>\n",
       "      <td>000103f0d9cfb60f</td>\n",
       "      <td>D'aww! He matches this background colour I'm s...</td>\n",
       "      <td>0</td>\n",
       "      <td>0</td>\n",
       "      <td>0</td>\n",
       "      <td>0</td>\n",
       "      <td>0</td>\n",
       "      <td>0</td>\n",
       "    </tr>\n",
       "    <tr>\n",
       "      <th>2</th>\n",
       "      <td>000113f07ec002fd</td>\n",
       "      <td>Hey man, I'm really not trying to edit war. It...</td>\n",
       "      <td>0</td>\n",
       "      <td>0</td>\n",
       "      <td>0</td>\n",
       "      <td>0</td>\n",
       "      <td>0</td>\n",
       "      <td>0</td>\n",
       "    </tr>\n",
       "    <tr>\n",
       "      <th>3</th>\n",
       "      <td>0001b41b1c6bb37e</td>\n",
       "      <td>\"\\nMore\\nI can't make any real suggestions on ...</td>\n",
       "      <td>0</td>\n",
       "      <td>0</td>\n",
       "      <td>0</td>\n",
       "      <td>0</td>\n",
       "      <td>0</td>\n",
       "      <td>0</td>\n",
       "    </tr>\n",
       "    <tr>\n",
       "      <th>4</th>\n",
       "      <td>0001d958c54c6e35</td>\n",
       "      <td>You, sir, are my hero. Any chance you remember...</td>\n",
       "      <td>0</td>\n",
       "      <td>0</td>\n",
       "      <td>0</td>\n",
       "      <td>0</td>\n",
       "      <td>0</td>\n",
       "      <td>0</td>\n",
       "    </tr>\n",
       "  </tbody>\n",
       "</table>\n",
       "</div>"
      ],
      "text/plain": [
       "                 id                                       comment_text  toxic  \\\n",
       "0  0000997932d777bf  Explanation\\nWhy the edits made under my usern...      0   \n",
       "1  000103f0d9cfb60f  D'aww! He matches this background colour I'm s...      0   \n",
       "2  000113f07ec002fd  Hey man, I'm really not trying to edit war. It...      0   \n",
       "3  0001b41b1c6bb37e  \"\\nMore\\nI can't make any real suggestions on ...      0   \n",
       "4  0001d958c54c6e35  You, sir, are my hero. Any chance you remember...      0   \n",
       "\n",
       "   severe_toxic  obscene  threat  insult  identity_hate  \n",
       "0             0        0       0       0              0  \n",
       "1             0        0       0       0              0  \n",
       "2             0        0       0       0              0  \n",
       "3             0        0       0       0              0  \n",
       "4             0        0       0       0              0  "
      ]
     },
     "execution_count": 6,
     "metadata": {},
     "output_type": "execute_result"
    }
   ],
   "source": [
    "df_train.head()"
   ]
  },
  {
   "cell_type": "code",
   "execution_count": 34,
   "id": "576a347e",
   "metadata": {},
   "outputs": [
    {
     "data": {
      "text/html": [
       "<div>\n",
       "<style scoped>\n",
       "    .dataframe tbody tr th:only-of-type {\n",
       "        vertical-align: middle;\n",
       "    }\n",
       "\n",
       "    .dataframe tbody tr th {\n",
       "        vertical-align: top;\n",
       "    }\n",
       "\n",
       "    .dataframe thead th {\n",
       "        text-align: right;\n",
       "    }\n",
       "</style>\n",
       "<table border=\"1\" class=\"dataframe\">\n",
       "  <thead>\n",
       "    <tr style=\"text-align: right;\">\n",
       "      <th></th>\n",
       "      <th>id</th>\n",
       "      <th>comment_text</th>\n",
       "    </tr>\n",
       "  </thead>\n",
       "  <tbody>\n",
       "    <tr>\n",
       "      <th>0</th>\n",
       "      <td>00001cee341fdb12</td>\n",
       "      <td>Yo bitch Ja Rule is more succesful then you'll...</td>\n",
       "    </tr>\n",
       "    <tr>\n",
       "      <th>1</th>\n",
       "      <td>0000247867823ef7</td>\n",
       "      <td>== From RfC == \\n\\n The title is fine as it is...</td>\n",
       "    </tr>\n",
       "    <tr>\n",
       "      <th>2</th>\n",
       "      <td>00013b17ad220c46</td>\n",
       "      <td>\" \\n\\n == Sources == \\n\\n * Zawe Ashton on Lap...</td>\n",
       "    </tr>\n",
       "    <tr>\n",
       "      <th>3</th>\n",
       "      <td>00017563c3f7919a</td>\n",
       "      <td>:If you have a look back at the source, the in...</td>\n",
       "    </tr>\n",
       "    <tr>\n",
       "      <th>4</th>\n",
       "      <td>00017695ad8997eb</td>\n",
       "      <td>I don't anonymously edit articles at all.</td>\n",
       "    </tr>\n",
       "  </tbody>\n",
       "</table>\n",
       "</div>"
      ],
      "text/plain": [
       "                 id                                       comment_text\n",
       "0  00001cee341fdb12  Yo bitch Ja Rule is more succesful then you'll...\n",
       "1  0000247867823ef7  == From RfC == \\n\\n The title is fine as it is...\n",
       "2  00013b17ad220c46  \" \\n\\n == Sources == \\n\\n * Zawe Ashton on Lap...\n",
       "3  00017563c3f7919a  :If you have a look back at the source, the in...\n",
       "4  00017695ad8997eb          I don't anonymously edit articles at all."
      ]
     },
     "execution_count": 34,
     "metadata": {},
     "output_type": "execute_result"
    }
   ],
   "source": [
    "df_test.head()"
   ]
  },
  {
   "cell_type": "code",
   "execution_count": 12,
   "id": "0a21e050",
   "metadata": {},
   "outputs": [],
   "source": [
    "import seaborn as sns"
   ]
  },
  {
   "cell_type": "code",
   "execution_count": 24,
   "id": "8c4b6e62",
   "metadata": {},
   "outputs": [
    {
     "data": {
      "text/plain": [
       "<AxesSubplot:xlabel='toxic', ylabel='count'>"
      ]
     },
     "execution_count": 24,
     "metadata": {},
     "output_type": "execute_result"
    },
    {
     "data": {
      "image/png": "[encoded data removed]",
      "text/plain": [
       "<Figure size 432x288 with 1 Axes>"
      ]
     },
     "metadata": {
      "needs_background": "light"
     },
     "output_type": "display_data"
    }
   ],
   "source": [
    "sns.countplot(x='toxic', data=df_train)"
   ]
  },
  {
   "cell_type": "code",
   "execution_count": 32,
   "id": "a6eecb6a",
   "metadata": {},
   "outputs": [
    {
     "name": "stdout",
     "output_type": "stream",
     "text": [
      "obscene          8449\n",
      "insult           7877\n",
      "severe_toxic     1595\n",
      "identity_hate    1405\n",
      "threat            478\n",
      "dtype: int64\n"
     ]
    },
    {
     "data": {
      "text/plain": [
       "<AxesSubplot:>"
      ]
     },
     "execution_count": 32,
     "metadata": {},
     "output_type": "execute_result"
    },
    {
     "data": {
      "image/png": "[encoded data removed]",
      "text/plain": [
       "<Figure size 432x288 with 1 Axes>"
      ]
     },
     "metadata": {
      "needs_background": "light"
     },
     "output_type": "display_data"
    }
   ],
   "source": [
    "melted_class = df_train[['severe_toxic','obscene','threat','insult','identity_hate']].sum()\n",
    "melted_class = melted_class.sort_values(ascending=False)\n",
    "print(melted_class)\n",
    "melted_class.plot(kind='bar')"
   ]
  },
  {
   "cell_type": "code",
   "execution_count": 35,
   "id": "9a178ed5",
   "metadata": {},
   "outputs": [
    {
     "data": {
      "text/plain": [
       "15294"
      ]
     },
     "execution_count": 35,
     "metadata": {},
     "output_type": "execute_result"
    }
   ],
   "source": [
    "train = df_train[['comment_text','toxic']]\n",
    "train['toxic'].sum()"
   ]
  },
  {
   "cell_type": "code",
   "execution_count": 40,
   "id": "0bcabb9b",
   "metadata": {},
   "outputs": [
    {
     "data": {
      "text/html": [
       "<div>\n",
       "<style scoped>\n",
       "    .dataframe tbody tr th:only-of-type {\n",
       "        vertical-align: middle;\n",
       "    }\n",
       "\n",
       "    .dataframe tbody tr th {\n",
       "        vertical-align: top;\n",
       "    }\n",
       "\n",
       "    .dataframe thead th {\n",
       "        text-align: right;\n",
       "    }\n",
       "</style>\n",
       "<table border=\"1\" class=\"dataframe\">\n",
       "  <thead>\n",
       "    <tr style=\"text-align: right;\">\n",
       "      <th></th>\n",
       "      <th>comment_text</th>\n",
       "      <th>toxic</th>\n",
       "    </tr>\n",
       "  </thead>\n",
       "  <tbody>\n",
       "    <tr>\n",
       "      <th>138195</th>\n",
       "      <td>WOULD ANYBODY HERE LIKE TO GUESS WHAT I STUCK ...</td>\n",
       "      <td>1</td>\n",
       "    </tr>\n",
       "    <tr>\n",
       "      <th>481</th>\n",
       "      <td>\"\\n\\n Can there be a more concise listing? \\n\\...</td>\n",
       "      <td>0</td>\n",
       "    </tr>\n",
       "    <tr>\n",
       "      <th>133908</th>\n",
       "      <td>If article does not say so, what is the purpos...</td>\n",
       "      <td>0</td>\n",
       "    </tr>\n",
       "    <tr>\n",
       "      <th>11078</th>\n",
       "      <td>Fuck you.\\n\\n'Fuck you in the ass.'</td>\n",
       "      <td>1</td>\n",
       "    </tr>\n",
       "    <tr>\n",
       "      <th>50487</th>\n",
       "      <td>Seventh, since Ratel is obviously wrong about ...</td>\n",
       "      <td>0</td>\n",
       "    </tr>\n",
       "  </tbody>\n",
       "</table>\n",
       "</div>"
      ],
      "text/plain": [
       "                                             comment_text  toxic\n",
       "138195  WOULD ANYBODY HERE LIKE TO GUESS WHAT I STUCK ...      1\n",
       "481     \"\\n\\n Can there be a more concise listing? \\n\\...      0\n",
       "133908  If article does not say so, what is the purpos...      0\n",
       "11078                 Fuck you.\\n\\n'Fuck you in the ass.'      1\n",
       "50487   Seventh, since Ratel is obviously wrong about ...      0"
      ]
     },
     "execution_count": 40,
     "metadata": {},
     "output_type": "execute_result"
    }
   ],
   "source": [
    "train_1 = train[train['toxic'] == 1]\n",
    "train_0 = train[train['toxic'] == 0].sample(n=train['toxic'].sum())\n",
    "\n",
    "train_data = pd.concat([train_1, train_0])\n",
    "train_data = train_data.sample(frac=1)\n",
    "train_data.head()"
   ]
  },
  {
   "cell_type": "code",
   "execution_count": 44,
   "id": "4e6f3b22",
   "metadata": {},
   "outputs": [],
   "source": [
    "def remove_stopwords(sentence):\n",
    "    \"\"\"\n",
    "    Removes a list of stopwords\n",
    "    \n",
    "    Args:\n",
    "        sentence (string): sentence to remove the stopwords from\n",
    "    \n",
    "    Returns:\n",
    "        sentence (string): lowercase sentence without the stopwords\n",
    "    \"\"\"\n",
    "    # List of stopwords\n",
    "    stopwords = [\"a\", \"about\", \"above\", \"after\", \"again\", \"against\", \"all\", \"am\", \"an\", \"and\", \"any\", \"are\", \"as\", \"at\", \"be\", \"because\", \"been\", \"before\", \"being\", \"below\", \"between\", \"both\", \"but\", \"by\", \"could\", \"did\", \"do\", \"does\", \"doing\", \"down\", \"during\", \"each\", \"few\", \"for\", \"from\", \"further\", \"had\", \"has\", \"have\", \"having\", \"he\", \"he'd\", \"he'll\", \"he's\", \"her\", \"here\", \"here's\", \"hers\", \"herself\", \"him\", \"himself\", \"his\", \"how\", \"how's\", \"i\", \"i'd\", \"i'll\", \"i'm\", \"i've\", \"if\", \"in\", \"into\", \"is\", \"it\", \"it's\", \"its\", \"itself\", \"let's\", \"me\", \"more\", \"most\", \"my\", \"myself\", \"nor\", \"of\", \"on\", \"once\", \"only\", \"or\", \"other\", \"ought\", \"our\", \"ours\", \"ourselves\", \"out\", \"over\", \"own\", \"same\", \"she\", \"she'd\", \"she'll\", \"she's\", \"should\", \"so\", \"some\", \"such\", \"than\", \"that\", \"that's\", \"the\", \"their\", \"theirs\", \"them\", \"themselves\", \"then\", \"there\", \"there's\", \"these\", \"they\", \"they'd\", \"they'll\", \"they're\", \"they've\", \"this\", \"those\", \"through\", \"to\", \"too\", \"under\", \"until\", \"up\", \"very\", \"was\", \"we\", \"we'd\", \"we'll\", \"we're\", \"we've\", \"were\", \"what\", \"what's\", \"when\", \"when's\", \"where\", \"where's\", \"which\", \"while\", \"who\", \"who's\", \"whom\", \"why\", \"why's\", \"with\", \"would\", \"you\", \"you'd\", \"you'll\", \"you're\", \"you've\", \"your\", \"yours\", \"yourself\", \"yourselves\" ]\n",
    "    \n",
    "    # Sentence converted to lowercase-only\n",
    "    sentence = sentence.lower()\n",
    "\n",
    "    words = sentence.split()\n",
    "    no_words = [w for w in words if w not in stopwords]\n",
    "    sentence = \" \".join(no_words)\n",
    "\n",
    "    return sentence\n",
    "\n",
    "def remove_symbols(sentence) :\n",
    "    return re.sub(r'[^\\w]', ' ', sentence)"
   ]
  },
  {
   "cell_type": "code",
   "execution_count": 45,
   "id": "99d1895d",
   "metadata": {},
   "outputs": [
    {
     "data": {
      "text/html": [
       "<div>\n",
       "<style scoped>\n",
       "    .dataframe tbody tr th:only-of-type {\n",
       "        vertical-align: middle;\n",
       "    }\n",
       "\n",
       "    .dataframe tbody tr th {\n",
       "        vertical-align: top;\n",
       "    }\n",
       "\n",
       "    .dataframe thead th {\n",
       "        text-align: right;\n",
       "    }\n",
       "</style>\n",
       "<table border=\"1\" class=\"dataframe\">\n",
       "  <thead>\n",
       "    <tr style=\"text-align: right;\">\n",
       "      <th></th>\n",
       "      <th>comment_text</th>\n",
       "      <th>toxic</th>\n",
       "      <th>text_no_stopwords</th>\n",
       "      <th>text_final</th>\n",
       "    </tr>\n",
       "  </thead>\n",
       "  <tbody>\n",
       "    <tr>\n",
       "      <th>138195</th>\n",
       "      <td>WOULD ANYBODY HERE LIKE TO GUESS WHAT I STUCK ...</td>\n",
       "      <td>1</td>\n",
       "      <td>anybody like guess stuck butt today?!?!</td>\n",
       "      <td>anybody like guess stuck butt today</td>\n",
       "    </tr>\n",
       "    <tr>\n",
       "      <th>481</th>\n",
       "      <td>\"\\n\\n Can there be a more concise listing? \\n\\...</td>\n",
       "      <td>0</td>\n",
       "      <td>\" can concise listing? listing \"\"other inventi...</td>\n",
       "      <td>can concise listing  listing   other inventi...</td>\n",
       "    </tr>\n",
       "    <tr>\n",
       "      <th>133908</th>\n",
       "      <td>If article does not say so, what is the purpos...</td>\n",
       "      <td>0</td>\n",
       "      <td>article not say so, purpose showing thiyya her...</td>\n",
       "      <td>article not say so  purpose showing thiyya her...</td>\n",
       "    </tr>\n",
       "    <tr>\n",
       "      <th>11078</th>\n",
       "      <td>Fuck you.\\n\\n'Fuck you in the ass.'</td>\n",
       "      <td>1</td>\n",
       "      <td>fuck you. 'fuck ass.'</td>\n",
       "      <td>fuck you   fuck ass</td>\n",
       "    </tr>\n",
       "    <tr>\n",
       "      <th>50487</th>\n",
       "      <td>Seventh, since Ratel is obviously wrong about ...</td>\n",
       "      <td>0</td>\n",
       "      <td>seventh, since ratel obviously wrong wikipedia...</td>\n",
       "      <td>seventh  since ratel obviously wrong wikipedia...</td>\n",
       "    </tr>\n",
       "  </tbody>\n",
       "</table>\n",
       "</div>"
      ],
      "text/plain": [
       "                                             comment_text  toxic  \\\n",
       "138195  WOULD ANYBODY HERE LIKE TO GUESS WHAT I STUCK ...      1   \n",
       "481     \"\\n\\n Can there be a more concise listing? \\n\\...      0   \n",
       "133908  If article does not say so, what is the purpos...      0   \n",
       "11078                 Fuck you.\\n\\n'Fuck you in the ass.'      1   \n",
       "50487   Seventh, since Ratel is obviously wrong about ...      0   \n",
       "\n",
       "                                        text_no_stopwords  \\\n",
       "138195            anybody like guess stuck butt today?!?!   \n",
       "481     \" can concise listing? listing \"\"other inventi...   \n",
       "133908  article not say so, purpose showing thiyya her...   \n",
       "11078                               fuck you. 'fuck ass.'   \n",
       "50487   seventh, since ratel obviously wrong wikipedia...   \n",
       "\n",
       "                                               text_final  \n",
       "138195            anybody like guess stuck butt today      \n",
       "481       can concise listing  listing   other inventi...  \n",
       "133908  article not say so  purpose showing thiyya her...  \n",
       "11078                               fuck you   fuck ass    \n",
       "50487   seventh  since ratel obviously wrong wikipedia...  "
      ]
     },
     "execution_count": 45,
     "metadata": {},
     "output_type": "execute_result"
    }
   ],
   "source": [
    "train_data[\"text_no_stopwords\"] = train_data[\"comment_text\"].apply(lambda x : remove_stopwords(x))\n",
    "train_data[\"text_final\"] = train_data[\"text_no_stopwords\"].apply(lambda x : remove_symbols(x))\n",
    "train_data.head()"
   ]
  },
  {
   "cell_type": "code",
   "execution_count": 85,
   "id": "f8fb7346",
   "metadata": {},
   "outputs": [],
   "source": [
    "def train_val_split(data, split) :\n",
    "    train = []\n",
    "    train_label = []\n",
    "    validation = []\n",
    "    val_label = []\n",
    "    for ind,val in data.iterrows() :\n",
    "        if len(train) < len(data)*split :\n",
    "            train.append(val['text_final'])\n",
    "            train_label.append(val['toxic'])\n",
    "        else :\n",
    "            validation.append(val['text_final'])\n",
    "            val_label.append(val['toxic'])\n",
    "    \n",
    "    train = np.array(train)\n",
    "    train_label = np.array(train_label)\n",
    "    validation = np.array(validation)\n",
    "    val_label = np.array(val_label)\n",
    "    \n",
    "    return train, train_label, validation, val_label"
   ]
  },
  {
   "cell_type": "code",
   "execution_count": 86,
   "id": "d72a9939",
   "metadata": {},
   "outputs": [],
   "source": [
    "x_train, y_train, x_val, y_val = train_val_split(train_data, 0.9)"
   ]
  },
  {
   "cell_type": "code",
   "execution_count": 87,
   "id": "48a36840",
   "metadata": {},
   "outputs": [],
   "source": [
    "EMBEDDING_DIM = 16\n",
    "MAXLEN = 120\n",
    "PADDING = 'post'\n",
    "TRUNCATING = 'post'\n",
    "OOV_TOKEN = \"<OOV>\"\n",
    "TRAINING_SPLIT = .8"
   ]
  },
  {
   "cell_type": "code",
   "execution_count": 88,
   "id": "a74339dc",
   "metadata": {},
   "outputs": [],
   "source": [
    "def fit_tokenizer(train_sentences, oov_token) :\n",
    "    \n",
    "    tokenizer = Tokenizer(oov_token=oov_token)\n",
    "    tokenizer.fit_on_texts(train_sentences)\n",
    "    \n",
    "    return tokenizer"
   ]
  },
  {
   "cell_type": "code",
   "execution_count": 89,
   "id": "669f36f3",
   "metadata": {},
   "outputs": [],
   "source": [
    "tokenizer = fit_tokenizer(x_train, OOV_TOKEN)\n",
    "\n",
    "word_index = tokenizer.word_index\n",
    "NUM_WORDS = len(word_index)\n",
    "\n",
    "training_sequences = tokenizer.texts_to_sequences(x_train)\n",
    "training_padded = pad_sequences(training_sequences, maxlen=MAXLEN, padding=PADDING, truncating=TRUNCATING)\n",
    "\n",
    "validation_sequences = tokenizer.texts_to_sequences(x_val)\n",
    "validation_padded = pad_sequences(validation_sequences, maxlen=MAXLEN, padding=PADDING, truncating=TRUNCATING)"
   ]
  },
  {
   "cell_type": "code",
   "execution_count": 90,
   "id": "58aec228",
   "metadata": {},
   "outputs": [
    {
     "name": "stdout",
     "output_type": "stream",
     "text": [
      "Model: \"sequential_4\"\n",
      "_________________________________________________________________\n",
      " Layer (type)                Output Shape              Param #   \n",
      "=================================================================\n",
      " embedding_4 (Embedding)     (None, 120, 16)           942720    \n",
      "                                                                 \n",
      " dropout_1 (Dropout)         (None, 120, 16)           0         \n",
      "                                                                 \n",
      " bidirectional_3 (Bidirectio  (None, 120, 64)          12544     \n",
      " nal)                                                            \n",
      "                                                                 \n",
      " conv1d_6 (Conv1D)           (None, 116, 24)           7704      \n",
      "                                                                 \n",
      " max_pooling1d_3 (MaxPooling  (None, 58, 24)           0         \n",
      " 1D)                                                             \n",
      "                                                                 \n",
      " conv1d_7 (Conv1D)           (None, 54, 12)            1452      \n",
      "                                                                 \n",
      " global_max_pooling1d_3 (Glo  (None, 12)               0         \n",
      " balMaxPooling1D)                                                \n",
      "                                                                 \n",
      " dense_8 (Dense)             (None, 64)                832       \n",
      "                                                                 \n",
      " dense_9 (Dense)             (None, 1)                 65        \n",
      "                                                                 \n",
      "=================================================================\n",
      "Total params: 965,317\n",
      "Trainable params: 965,317\n",
      "Non-trainable params: 0\n",
      "_________________________________________________________________\n"
     ]
    }
   ],
   "source": [
    "# Build the model\n",
    "model = tf.keras.Sequential([\n",
    "    tf.keras.layers.Embedding(NUM_WORDS, EMBEDDING_DIM, input_length=MAXLEN),\n",
    "    tf.keras.layers.Dropout(0.2),\n",
    "#     tf.keras.layers.GlobalAveragePooling1D(),\n",
    "    tf.keras.layers.Bidirectional(tf.keras.layers.LSTM(32, return_sequences=True)),\n",
    "    tf.keras.layers.Conv1D(filters=24, kernel_size=5, activation='relu'),\n",
    "    tf.keras.layers.MaxPooling1D(),\n",
    "    tf.keras.layers.Conv1D(filters=12, kernel_size=5, activation='relu'),\n",
    "    tf.keras.layers.GlobalMaxPooling1D(),\n",
    "    tf.keras.layers.Dense(64, activation='relu'),\n",
    "    tf.keras.layers.Dense(1, activation='sigmoid')\n",
    "])\n",
    "\n",
    "# Print the model summary\n",
    "model.summary()"
   ]
  },
  {
   "cell_type": "code",
   "execution_count": 91,
   "id": "9a7704ff",
   "metadata": {},
   "outputs": [],
   "source": [
    "# Compile the model\n",
    "model.compile(loss='binary_crossentropy',optimizer='adam',metrics=['accuracy'])"
   ]
  },
  {
   "cell_type": "code",
   "execution_count": 92,
   "id": "484eaaae",
   "metadata": {},
   "outputs": [
    {
     "name": "stdout",
     "output_type": "stream",
     "text": [
      "Epoch 1/30\n",
      "861/861 [==============================] - 11s 10ms/step - loss: 0.3106 - accuracy: 0.8572 - val_loss: 0.2220 - val_accuracy: 0.9075\n",
      "Epoch 2/30\n",
      "861/861 [==============================] - 8s 9ms/step - loss: 0.1412 - accuracy: 0.9466 - val_loss: 0.2256 - val_accuracy: 0.9137\n",
      "Epoch 3/30\n",
      "861/861 [==============================] - 8s 9ms/step - loss: 0.0806 - accuracy: 0.9722 - val_loss: 0.2648 - val_accuracy: 0.9016\n",
      "Epoch 4/30\n",
      "861/861 [==============================] - 8s 9ms/step - loss: 0.0524 - accuracy: 0.9820 - val_loss: 0.3081 - val_accuracy: 0.9048\n",
      "Epoch 5/30\n",
      "861/861 [==============================] - 8s 9ms/step - loss: 0.0359 - accuracy: 0.9882 - val_loss: 0.3532 - val_accuracy: 0.8924\n",
      "Epoch 6/30\n",
      "861/861 [==============================] - 8s 9ms/step - loss: 0.0280 - accuracy: 0.9907 - val_loss: 0.4493 - val_accuracy: 0.8940\n",
      "Epoch 7/30\n",
      "861/861 [==============================] - 8s 9ms/step - loss: 0.0231 - accuracy: 0.9919 - val_loss: 0.4496 - val_accuracy: 0.8931\n",
      "Epoch 8/30\n",
      "861/861 [==============================] - 8s 9ms/step - loss: 0.0188 - accuracy: 0.9940 - val_loss: 0.4584 - val_accuracy: 0.8888\n",
      "Epoch 9/30\n",
      "861/861 [==============================] - 8s 9ms/step - loss: 0.0168 - accuracy: 0.9941 - val_loss: 0.5007 - val_accuracy: 0.8931\n",
      "Epoch 10/30\n",
      "861/861 [==============================] - 8s 9ms/step - loss: 0.0145 - accuracy: 0.9951 - val_loss: 0.5294 - val_accuracy: 0.8908\n",
      "Epoch 11/30\n",
      "861/861 [==============================] - 8s 9ms/step - loss: 0.0151 - accuracy: 0.9949 - val_loss: 0.5497 - val_accuracy: 0.8888\n",
      "Epoch 12/30\n",
      "861/861 [==============================] - 8s 9ms/step - loss: 0.0107 - accuracy: 0.9965 - val_loss: 0.5621 - val_accuracy: 0.8842\n",
      "Epoch 13/30\n",
      "861/861 [==============================] - 8s 9ms/step - loss: 0.0100 - accuracy: 0.9968 - val_loss: 0.5534 - val_accuracy: 0.8855\n",
      "Epoch 14/30\n",
      "861/861 [==============================] - 8s 9ms/step - loss: 0.0092 - accuracy: 0.9969 - val_loss: 0.5400 - val_accuracy: 0.8885\n",
      "Epoch 15/30\n",
      "861/861 [==============================] - 8s 9ms/step - loss: 0.0097 - accuracy: 0.9972 - val_loss: 0.6160 - val_accuracy: 0.8875\n",
      "Epoch 16/30\n",
      "861/861 [==============================] - 8s 9ms/step - loss: 0.0091 - accuracy: 0.9968 - val_loss: 0.5474 - val_accuracy: 0.8855\n",
      "Epoch 17/30\n",
      "861/861 [==============================] - 8s 9ms/step - loss: 0.0068 - accuracy: 0.9977 - val_loss: 0.7157 - val_accuracy: 0.8914\n",
      "Epoch 18/30\n",
      "861/861 [==============================] - 8s 9ms/step - loss: 0.0071 - accuracy: 0.9977 - val_loss: 0.6756 - val_accuracy: 0.8833\n",
      "Epoch 19/30\n",
      "861/861 [==============================] - 8s 9ms/step - loss: 0.0077 - accuracy: 0.9977 - val_loss: 0.6494 - val_accuracy: 0.8855\n",
      "Epoch 20/30\n",
      "861/861 [==============================] - 8s 9ms/step - loss: 0.0052 - accuracy: 0.9981 - val_loss: 0.7954 - val_accuracy: 0.8842\n",
      "Epoch 21/30\n",
      "861/861 [==============================] - 8s 9ms/step - loss: 0.0055 - accuracy: 0.9980 - val_loss: 0.7469 - val_accuracy: 0.8895\n",
      "Epoch 22/30\n",
      "861/861 [==============================] - 8s 9ms/step - loss: 0.0052 - accuracy: 0.9984 - val_loss: 0.8461 - val_accuracy: 0.8806\n",
      "Epoch 23/30\n",
      "861/861 [==============================] - 8s 9ms/step - loss: 0.0051 - accuracy: 0.9983 - val_loss: 0.7279 - val_accuracy: 0.8891\n",
      "Epoch 24/30\n",
      "861/861 [==============================] - 8s 9ms/step - loss: 0.0041 - accuracy: 0.9988 - val_loss: 0.8185 - val_accuracy: 0.8810\n",
      "Epoch 25/30\n",
      "861/861 [==============================] - 8s 9ms/step - loss: 0.0045 - accuracy: 0.9983 - val_loss: 0.8317 - val_accuracy: 0.8849\n",
      "Epoch 26/30\n",
      "861/861 [==============================] - 8s 9ms/step - loss: 0.0039 - accuracy: 0.9984 - val_loss: 0.9230 - val_accuracy: 0.8855\n",
      "Epoch 27/30\n",
      "861/861 [==============================] - 8s 9ms/step - loss: 0.0036 - accuracy: 0.9985 - val_loss: 0.8881 - val_accuracy: 0.8852\n",
      "Epoch 28/30\n",
      "861/861 [==============================] - 8s 9ms/step - loss: 0.0038 - accuracy: 0.9989 - val_loss: 0.6325 - val_accuracy: 0.8810\n",
      "Epoch 29/30\n",
      "861/861 [==============================] - 8s 9ms/step - loss: 0.0029 - accuracy: 0.9990 - val_loss: 0.9008 - val_accuracy: 0.8855\n",
      "Epoch 30/30\n",
      "861/861 [==============================] - 8s 9ms/step - loss: 0.0029 - accuracy: 0.9993 - val_loss: 0.8636 - val_accuracy: 0.8813\n"
     ]
    }
   ],
   "source": [
    "num_epochs = 30\n",
    "\n",
    "# Train the model\n",
    "history = model.fit(training_padded, y_train, epochs=num_epochs, validation_data=(validation_padded, y_val))"
   ]
  },
  {
   "cell_type": "code",
   "execution_count": 97,
   "id": "573dee29",
   "metadata": {},
   "outputs": [
    {
     "data": {
      "text/plain": [
       "array([[1.]], dtype=float32)"
      ]
     },
     "execution_count": 97,
     "metadata": {},
     "output_type": "execute_result"
    }
   ],
   "source": [
    "text = \"If you have a look back at the source, the information I updated was the correct form. I can only guess the source hadn't updated. I shall update the information once again but thank you for your message.\"\n",
    "text_after_stopwords = remove_stopwords(text)\n",
    "text_clean = remove_symbols(text_after_stopwords)\n",
    "\n",
    "text_sequence = tokenizer.texts_to_sequences([text_clean])\n",
    "text_padded = pad_sequences(text_sequence, maxlen=MAXLEN, padding=PADDING, truncating=TRUNCATING)\n",
    "\n",
    "model.predict(text_padded)"
   ]
  },
  {
   "cell_type": "code",
   "execution_count": 96,
   "id": "83979c14",
   "metadata": {},
   "outputs": [
    {
     "data": {
      "text/plain": [
       "array([[  154,   336,   138,  1061,    64,  8408,   552, 16944,   183,\n",
       "         1947,  3331,   805,     1,    48,    64,  1832,   496,     1,\n",
       "          416,  6244,    25,  2075,    40,   315, 25506,    36,  8408,\n",
       "          552,  3661,  1863,   663,   207,   106, 12027,    19,   394,\n",
       "        13407,   164, 10911,    10, 16912,  1678,   411,   505,   416,\n",
       "         1760,    25,   145,    57,   431,    35]], dtype=int32)"
      ]
     },
     "execution_count": 96,
     "metadata": {},
     "output_type": "execute_result"
    }
   ],
   "source": [
    "text_padded"
   ]
  },
  {
   "cell_type": "code",
   "execution_count": null,
   "id": "b10b88ca",
   "metadata": {},
   "outputs": [],
   "source": []
  }
 ],
 "metadata": {
  "kernelspec": {
   "display_name": "Python 3 (ipykernel)",
   "language": "python",
   "name": "python3"
  },
  "language_info": {
   "codemirror_mode": {
    "name": "ipython",
    "version": 3
   },
   "file_extension": ".py",
   "mimetype": "text/x-python",
   "name": "python",
   "nbconvert_exporter": "python",
   "pygments_lexer": "ipython3",
   "version": "3.8.10"
  }
 },
 "nbformat": 4,
 "nbformat_minor": 5
}
