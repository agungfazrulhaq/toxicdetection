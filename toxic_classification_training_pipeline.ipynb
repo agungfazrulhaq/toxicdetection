{
 "cells": [
  {
   "cell_type": "code",
   "execution_count": null,
   "id": "d561ddb5",
   "metadata": {},
   "outputs": [],
   "source": [
    "import kfp\n",
    "from kfp import dsl\n",
    "import kfp.components as components\n",
    "\n",
    "from typing import NamedTuple\n",
    "\n",
    "def get_data_train() -> NamedTuple('Outputs', [('datapoints_training', float),('dataset_version', str)]):\n",
    "    print(\"getting data\")\n",
    "    from tensorflow import keras\n",
    "    from minio import Minio\n",
    "    import numpy as np\n",
    "    import pandas as pd\n",
    "    import zipfile\n",
    "    import os \n",
    "    \n",
    "    minio_client = Minio(\n",
    "        \"192.168.1.10:30365\",\n",
    "        access_key=\"minio\",\n",
    "        secret_key=\"minio123\",\n",
    "        secure=False\n",
    "    )\n",
    "    minio_bucket = \"mlpipeline\"\n",
    "    \n",
    "    minio_client.fget_object(minio_bucket,\"datasets/jigsaw_toxic_comment_data.zip\",\"/tmp/jigsaw_toxic_comment_data.zip\")\n",
    "    \n",
    "    os.mkdir(\"data/\")\n",
    "    \n",
    "    with zipfile.ZipFile(\"/tmp/jigsaw_toxic_comment_data.zip\", 'r') as zip_ref:\n",
    "        zip_ref.extractall()\n",
    "    \n",
    "    with zipfile.ZipFile(\"train.csv.zip\", 'r') as zip_ref:\n",
    "        zip_ref.extractall(\"data/\")\n",
    "    \n",
    "    df_train = pd.read_csv(\"data/train.csv\")\n",
    "    \n",
    "    train = df_train[['comment_text','toxic']]\n",
    "    train_1 = train[train['toxic'] == 1]\n",
    "    train_0 = train[train['toxic'] == 0].sample(n=train['toxic'].sum())\n",
    "\n",
    "    train_data = pd.concat([train_1, train_0])\n",
    "    train_data = train_data.sample(frac=1)\n",
    "    \n",
    "    train_data.to_csv(\"data/train_data.csv\", index=False)\n",
    "    minio_client.fput_object(minio_bucket, \"train_data\", \"data/train_data.csv\")\n",
    "    \n",
    "    dataset_version = \"1.0\"\n",
    "    \n",
    "    from collections import namedtuple\n",
    "    divmod_output = namedtuple('Outputs', ['datapoints_training', 'dataset_version'])\n",
    "    return [float(train_data.shape[0]),dataset_version]\n",
    "    "
   ]
  }
 ],
 "metadata": {
  "kernelspec": {
   "display_name": "Python 3 (ipykernel)",
   "language": "python",
   "name": "python3"
  },
  "language_info": {
   "codemirror_mode": {
    "name": "ipython",
    "version": 3
   },
   "file_extension": ".py",
   "mimetype": "text/x-python",
   "name": "python",
   "nbconvert_exporter": "python",
   "pygments_lexer": "ipython3",
   "version": "3.8.10"
  }
 },
 "nbformat": 4,
 "nbformat_minor": 5
}
